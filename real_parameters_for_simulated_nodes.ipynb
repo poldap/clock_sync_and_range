{
 "cells": [
  {
   "cell_type": "markdown",
   "metadata": {},
   "source": [
    "# Real parameters for simulated nodes"
   ]
  },
  {
   "cell_type": "markdown",
   "metadata": {},
   "source": [
    "## Extracting reference values from [\\[1\\]][1]\n",
    "\n",
    "As a reference for parameter values, common values in [\\[1\\]][1] are a TDC with resolution of $50~\\mathrm{ps}$, $T_{\\mathcal{M}}=10~\\mathrm{ns}$, $T_\\mathrm{s}=1~\\mathrm{ms}$, $\\delta_0 = 5~\\mu\\mathrm{s}$, $\\rho = 2~\\mathrm{m}$, $\\mathrm{SNR}_\\mathrm{c} = 20 \\log_{10}\\left({T_\\mathcal{M}}/{\\sigma}\\right) = 15~\\mathrm{dB}$ and $f_\\mathrm{d}=100~\\mathrm{Hz}$. In order to be able to simulate the system, we would need to assume here an idealized TDC with a resolution of $0.01~\\mathrm{ps}$ instead, and take that as a reference for all other quantities. This would be required to be able to represent differences as small as $100~\\mathrm{Hz}$ in the periods within our discretized time. However, this would lead to the following values when defining the nodes. \n",
    "\n",
    "| Name         | Value    | Norm. Value   | W.r.t. |\n",
    "| - | - | - | - |\n",
    "| Period TDC   | 1.00E-14 | 1             | Period TDC |\n",
    "| Period M     | 1.000000E-08 | 1.000000E+06      | Period TDC |\n",
    "| Period S     | 9.999990E-09 | 9.999990E+05      | Period TDC|\n",
    "| Sampling p.  | 1.00E-03 | 1.00E+05      | Period M |\n",
    "| Delay at S   | 5.00E-06 | 5.00E+02      | Period S|\n",
    "| Trans. delay | 6.67E-09 | 6.67E+05      | Period TDC|\n",
    "| Noise std    | 1.26E-09    |  1.26E+05       | Period TDC |\n",
    "\n",
    "To obtain this values, simply run the following code.\n",
    "[1]: https://ieeexplore.ieee.org/document/7102694\n",
    "\n",
    "[\\[1\\]][1]: Satyam Dwivedi, Alessio De Angelis, Dave Zachariah and Peter Händel, \"Joint Ranging and Clock Parameter Estimation by Wireless Round Trip Time Measurements\", _IEEE Journal on Selected Areas in Communications_, vol. 33, no. 11, pp. 2379--2390, Nov. 2015"
   ]
  },
  {
   "cell_type": "code",
   "execution_count": 1,
   "metadata": {},
   "outputs": [
    {
     "name": "stdout",
     "output_type": "stream",
     "text": [
      "Name          Value         Norm. Value    W.r.t.\n",
      "------------  ------------  -------------  ----------\n",
      "Period TDC    1.00E-14      1              Period TDC\n",
      "Period M      1.000000E-08  1.000000E+06   Period TDC\n",
      "Period S      9.999990E-09  9.999990E+05   Period TDC\n",
      "Sampling p.   1.00E-03      1.00E+05       Period M\n",
      "Delay at S    5.00E-06      5.00E+02       Period S\n",
      "Trans. delay  6.67E-09      6.67E+05       Period TDC\n",
      "Noise std     1.26E-09      1.26E+05       Period TDC\n"
     ]
    }
   ],
   "source": [
    "import numpy as np\n",
    "from tabulate import tabulate\n",
    "\n",
    "# Parameters\n",
    "clock_period_tdc = 10**-14\n",
    "clock_period_m = 10 * 10**-9; sampling_period = 10**-3\n",
    "fd = 100; clock_period_s = clock_period_m / (clock_period_m*fd+1)\n",
    "delay_s = 5 * 10**-6; delay_messages = 2 / (3 * 10**8)\n",
    "noise_std_total = clock_period_m / (10**(15.0/20.0))\n",
    "noise_std = noise_std_total / np.sqrt(2)\n",
    "# Representation in discretized time\n",
    "clock_period_m_d = clock_period_m / clock_period_tdc\n",
    "sampling_factor = sampling_period / clock_period_m\n",
    "clock_period_s_d = clock_period_s / clock_period_tdc\n",
    "delay_factor = delay_s / clock_period_s\n",
    "delay_messages_d = delay_messages / clock_period_tdc\n",
    "noise_std_d = noise_std / clock_period_tdc\n",
    "print( tabulate( [ ['Period TDC',  '%.2E'%( clock_period_tdc ), 1, 'Period TDC'], \n",
    "                        ['Period M',  '%.6E'%( clock_period_m ), '%.6E'%( clock_period_m_d ), 'Period TDC' ],\n",
    "                        ['Period S',  '%.6E'%( clock_period_s ), '%.6E'%( clock_period_s_d ), 'Period TDC' ],\n",
    "                        ['Sampling p.', '%.2E'%( sampling_period ), '%.2E'%( sampling_factor ), 'Period M' ],\n",
    "                        ['Delay at S', '%.2E'%( delay_s ),  '%.2E'%( delay_factor ), 'Period S' ],\n",
    "                        ['Trans. delay', '%.2E'%( delay_messages ),  '%.2E'%( delay_messages_d ), 'Period TDC' ],\n",
    "                        ['Noise std', '%.2E'%( noise_std ),  '%.2E'%( noise_std_d ), 'Period TDC' ] ],\n",
    "                       headers = ['Name', 'Value', 'Norm. Value', 'W.r.t.'], disable_numparse = True ) )"
   ]
  }
 ],
 "metadata": {
  "kernelspec": {
   "display_name": "Python 3",
   "language": "python",
   "name": "python3"
  },
  "language_info": {
   "codemirror_mode": {
    "name": "ipython",
    "version": 3
   },
   "file_extension": ".py",
   "mimetype": "text/x-python",
   "name": "python",
   "nbconvert_exporter": "python",
   "pygments_lexer": "ipython3",
   "version": "3.5.2"
  }
 },
 "nbformat": 4,
 "nbformat_minor": 2
}
