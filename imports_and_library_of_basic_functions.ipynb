{
 "cells": [
  {
   "cell_type": "markdown",
   "metadata": {
    "deletable": true,
    "editable": true
   },
   "source": [
    "# Imports and library of basic functions\n",
    "\n",
    "In this notebook, we provide the basic imports and self-defined functions needed for the implementation of the different concepts and results considered in our paper [\\[1\\]][1]. These will be used by the estimation strategies we propose (implemented in [estimation_strategies_with_examples.ipynb](estimation_strategies_with_examples.ipynb)) and for all the empirical results we report. Furthermore, we recap the several parametrizations we introduce in the [\\[1\\]][1] for the sawtooth signal and how to convert from one to the other.\n",
    "\n",
    "## References\n",
    "\n",
    "[\\[1\\]][1]: Pol del Aguila Pla, Lissy Pellaco, Satyam Dwivedi, Peter Händel and Joakim Jaldén, \"Clock synchronization over networks: Identifiability of the sawtooth model\", in IEEE Open Journal of Signal Processing, vol. 1, pp. 14-27, 2020, doi: 10.1109/OJSP.2020.2978762.\n",
    "\n",
    "[1]:https://ieeexplore.ieee.org/document/9025036\n",
    "\n",
    "\n",
    "## Index\n",
    "<a id=\"index\"></a>\n",
    "1. [Import](#libs) libraries\n",
    "2. Library of [basic functions](#basic)\n",
    "    1. [Signal generation](#signal_generation) functions\n",
    "    2. [Parameter transformation](#pars_transforms) functions\n",
    "        1. From physical to standard parameters\n",
    "        2. From standard to physical parameters\n",
    "    3. [Interactive visualitzation](#eye_candy) functions\n",
    "\n",
    "## Import libraries\n",
    "<a id=\"libs\"></a>\n",
    "[Back to index](#index)"
   ]
  },
  {
   "cell_type": "code",
   "execution_count": 1,
   "metadata": {
    "collapsed": false,
    "deletable": true,
    "editable": true
   },
   "outputs": [
    {
     "data": {
      "text/html": [
       "<script type=\"text/javascript\">window.PlotlyConfig = {MathJaxConfig: 'local'};</script><script type=\"text/javascript\">if (window.MathJax) {MathJax.Hub.Config({SVG: {font: \"STIX-Web\"}});}</script><script>requirejs.config({paths: { 'plotly': ['https://cdn.plot.ly/plotly-latest.min']},});if(!window._Plotly) {require(['plotly'],function(plotly) {window._Plotly=plotly;});}</script>"
      ],
      "text/vnd.plotly.v1+html": [
       "<script type=\"text/javascript\">window.PlotlyConfig = {MathJaxConfig: 'local'};</script><script type=\"text/javascript\">if (window.MathJax) {MathJax.Hub.Config({SVG: {font: \"STIX-Web\"}});}</script><script>requirejs.config({paths: { 'plotly': ['https://cdn.plot.ly/plotly-latest.min']},});if(!window._Plotly) {require(['plotly'],function(plotly) {window._Plotly=plotly;});}</script>"
      ]
     },
     "metadata": {},
     "output_type": "display_data"
    }
   ],
   "source": [
    "# Import useful packages\n",
    "# Numpy for numerical computation\n",
    "import numpy as np\n",
    "# Itemgetter to make compressed .npz easier to retrieve\n",
    "from operator import itemgetter\n",
    "# Import numba for speeding up big numpy functions (not fully exploited)\n",
    "import numba\n",
    "from numba import jit\n",
    "# Greatest common divisor from the math library (check co-primes)\n",
    "from math import gcd\n",
    "# Time to keep track of running times (simple, not a profiling tool)\n",
    "import time\n",
    "# Tabulate to make nice tables in examples\n",
    "from tabulate import tabulate \n",
    "\n",
    "# Visualization libraries\n",
    "# Matplotlib for plotting\n",
    "import matplotlib.pyplot as plt\n",
    "# Plotly for interactive plots (no need for go because we use iplot_mpl)\n",
    "import plotly.offline as pltly\n",
    "import plotly.tools as pltly_tls\n",
    "# Connect to plotly\n",
    "pltly.init_notebook_mode( connected = True )\n",
    "# Matplotlib2tikz to easily generate tikz plots\n",
    "from matplotlib2tikz import save as tikz_save"
   ]
  },
  {
   "cell_type": "markdown",
   "metadata": {
    "deletable": true,
    "editable": true
   },
   "source": [
    "## Library of basic functions\n",
    "<a id=\"basic\"></a>\n",
    "[Back to index](#index)\n",
    "\n",
    "### Signal generation functions\n",
    "<a id=\"signal_generation\"></a>\n",
    "[Back to index](#index)\n",
    "\n",
    "We model the observed data as \n",
    "\n",
    "$$\n",
    "    Y[n] = \\alpha + \\psi\\, \\mathrm{mod}_{1}\\!\\left( \\beta n + \\gamma + V[n] \\right) + W[n]\n",
    "$$\n",
    "\n",
    "where $W[n]$ and $V[n]$ are independent white processes such that $V[n]\\sim\\mathcal{N}(0,\\sigma_v^2)$ and $W[n]\\sim\\mathcal{N}(0,\\sigma_w^2)$. "
   ]
  },
  {
   "cell_type": "code",
   "execution_count": 2,
   "metadata": {
    "collapsed": true,
    "deletable": true,
    "editable": true
   },
   "outputs": [],
   "source": [
    "# Our own version of mod_1(x). It avoids numerical errors in which mod_1(x) == 1.\n",
    "@jit(nopython = True, parallel = True)\n",
    "def mod_one( signal ):\n",
    "        # Take Python's mod_1(x)\n",
    "        signal = (signal)%(1)\n",
    "        # Put all numbers within machine epsilon of 1 to 0 to comply with the mathematical definition\n",
    "        signal = signal * np.logical_not( signal == 1 )\n",
    "        \n",
    "        return signal"
   ]
  },
  {
   "cell_type": "code",
   "execution_count": 3,
   "metadata": {
    "collapsed": true,
    "deletable": true,
    "editable": true
   },
   "outputs": [],
   "source": [
    "# Generate a signal according to the sawtooth model\n",
    "@jit(nopython = True, parallel = True)\n",
    "def generate_signal( nrof_samples = 5000, beta = .001, gamma = np.random.rand(), alpha = 5e-6, psi = -1e-8, \n",
    "                    w_std = 0, v_std = 0):\n",
    "    \n",
    "    # Generate temporal axis\n",
    "    n = np.linspace( 0, nrof_samples - 1, nrof_samples );\n",
    "    # Generate a sawtooth signal with noise inside and outside\n",
    "    y =  np.random.randn( nrof_samples ) * w_std  + alpha + psi * mod_one( \n",
    "         beta * n  + gamma + np.random.randn( nrof_samples ) * v_std ) \n",
    "    \n",
    "    return y"
   ]
  },
  {
   "cell_type": "markdown",
   "metadata": {
    "deletable": true,
    "editable": true
   },
   "source": [
    "### Parameter transformation functions\n",
    "<a id=\"pars_transforms\"></a>\n",
    "[Back to index](#index)\n",
    "\n",
    "A summary of the physical parameters\n",
    "\n",
    "| Parameter | Meaning | Known to $\\mathcal{M}$ | Known to $\\mathcal{S}$ |\n",
    "| -- | -- | -- | -- |\n",
    "| $\\delta_0$ | Delay introduced by $\\mathcal{S}$, in seconds. | Yes. | Yes. |\n",
    "| $\\rho$ | Range between $\\mathcal{S}$ and $\\mathcal{M}$, in meters. | No. | No. | \n",
    "| $T_\\mathcal{S}$ | Period of $\\mathcal{S}$'s clock, in seconds. | No. | Yes. |\n",
    "| $T_\\mathrm{s} $ | Sampling period used by $\\mathcal{M}$, in seconds. | Yes. | No. |\n",
    "| $f_\\mathrm{d}$ | Frequency difference between $\\mathcal{S}$ and $\\mathcal{M}$, in Hertz. | No. | No. |\n",
    "| $\\phi_\\mathcal{S}$ | Phase parameter, in radians. | No. | No. |\n",
    "| $\\sigma_v$ | Standard deviation of the clock jitter (inside the modulus). | Yes. | Yes. |\n",
    "| $\\sigma_w$ | Standard deviation of other noise sources (outside the modulus). | Yes. | Yes. |\n",
    "\n",
    "\n",
    "A summary of the standard parameters, all unknown to the observer of the signal.\n",
    "\n",
    "| Parameter | Meaning   | Range of values         |\n",
    "| --        | --        | --                      |\n",
    "| $\\alpha$  | Offset    | $\\mathbb{R}$            |\n",
    "| $\\psi$    | Amplitude | $\\mathbb{R}$            |\n",
    "| $\\beta$   | Frequency | $\\left[-0.5,0.5\\right)$ |\n",
    "| $\\gamma$  | Phase     | $[0,1)$                 |\n",
    "\n",
    "In our estimation, we will assume that we have a relation between $\\mathrm{h}(\\cdot)$ such that given an estimate of $\\beta$, $\\hat{\\beta}$, $\\hat{\\psi}=\\mathrm{h}\\left(\\hat{\\beta}\\right)$ is a reasonable estimate of $\\psi$. This function is implemented below in `psi_function`. The existance of this function parallels the case of joint clock synchronization and ranging.\n",
    "\n",
    "#### From physical to standard parameters\n",
    "\n",
    "Transformations, given between (10) and (11) in [\\[1\\]][1] \n",
    "\n",
    "[1]: https://arxiv.org"
   ]
  },
  {
   "cell_type": "code",
   "execution_count": 4,
   "metadata": {
    "collapsed": true,
    "deletable": true,
    "editable": true
   },
   "outputs": [],
   "source": [
    "# Given some parameters for the physical clock synchronization problem, return the\n",
    "# corresponding parameters for the standard sawtooth model\n",
    "# See eq. between (10) and (11) in the paper\n",
    "@jit(nopython = True)\n",
    "def to_standard_parameters( T_sampling, delta_0, rho, f_d, T_s, phase_s ):\n",
    "    # Required constants\n",
    "    # Speed of light\n",
    "    c = 3e8\n",
    "    \n",
    "    # Transformation of parameters\n",
    "    # Offset from range, protocol delay and S's period\n",
    "    alpha = delta_0 + 2 * rho / c + T_s\n",
    "    # Obtain amplitude from T_s\n",
    "    psi = - T_s\n",
    "    # Obtain beta from sampling time and frequency difference\n",
    "    beta = f_d * T_sampling\n",
    "    # Phase delay from range and S's phase\n",
    "    gamma = ( rho /( c * T_s ) + phase_s / (2 * np.pi) )%(1)\n",
    "    \n",
    "    # Return standard parameters\n",
    "    return (alpha, beta, gamma, psi)"
   ]
  },
  {
   "cell_type": "markdown",
   "metadata": {
    "deletable": true,
    "editable": true
   },
   "source": [
    "#### From standard to physical parameters\n",
    "\n",
    "Transformations, given in (11) - (13) in [\\[1\\]][1]\n",
    "\n",
    "[1]: https://arxiv.org"
   ]
  },
  {
   "cell_type": "code",
   "execution_count": 5,
   "metadata": {
    "collapsed": true,
    "deletable": true,
    "editable": true
   },
   "outputs": [],
   "source": [
    "# Given some standard (estimated) sawtooth model parameters, and the parameters known\n",
    "# to M, return the corresponding physical parameters for the clock synchronization problem\n",
    "# See eq. (11) - (13) in the paper\n",
    "@jit(nopython = True)\n",
    "def to_physical_parameters( alpha, beta, gamma, T_m, T_sampling, delta_0 ):\n",
    "    # Required constants\n",
    "    # Speed of light\n",
    "    c = 3e8\n",
    "    \n",
    "    # Transformation of parameters\n",
    "    # Obtain frequency difference from beta and the sampling time\n",
    "    f_d = beta / T_sampling\n",
    "    \n",
    "    # Extract other quantities that make the transformation easier\n",
    "    # Obtain S's clock period from the frequency difference\n",
    "    T_s = T_m / ( 1 + T_m * f_d )\n",
    "    \n",
    "    # Obtain the range\n",
    "    rho = ( alpha - delta_0 - T_s ) * c / 2   \n",
    "    # Obtain S's phase\n",
    "    aux_1 = ( rho / ( c * T_s ) )%(1)\n",
    "    aux_2 = ( gamma - aux_1 )%(1)\n",
    "    phase_s = 2 * np.pi * aux_2\n",
    "    # Return the physical clock synchronization and ranging parameters\n",
    "    return (f_d, phase_s, rho)\n",
    "\n",
    " # Define a function for obtainig psi (-T_s) from beta and known values\n",
    "@jit(nopython = True)\n",
    "def psi_function( beta, T_sampling, T_m ):\n",
    "    sampling_factor = T_sampling / T_m\n",
    "    return (- T_m / (1 + beta / sampling_factor))"
   ]
  },
  {
   "cell_type": "markdown",
   "metadata": {
    "deletable": true,
    "editable": true
   },
   "source": [
    "### Interactive visualization functions\n",
    "<a id=\"eye_candy\"></a>\n",
    "[Back to index](#index)"
   ]
  },
  {
   "cell_type": "code",
   "execution_count": 6,
   "metadata": {
    "collapsed": true,
    "deletable": true,
    "editable": true
   },
   "outputs": [],
   "source": [
    "def mpl_to_pltly( fig ):\n",
    "    # Strip matplotlib figure of its legend (not supported by plotly)\n",
    "    for child in fig.get_children( ):\n",
    "        try:\n",
    "            child.get_legend().remove()\n",
    "        except:\n",
    "            pass\n",
    "    pltly_fig = pltly_tls.mpl_to_plotly( fig )\n",
    "    pltly_fig['layout']['showlegend'] = True\n",
    "    pltly.iplot( pltly_fig )"
   ]
  }
 ],
 "metadata": {
  "kernelspec": {
   "display_name": "Python 3",
   "language": "python",
   "name": "python3"
  },
  "language_info": {
   "codemirror_mode": {
    "name": "ipython",
    "version": 3
   },
   "file_extension": ".py",
   "mimetype": "text/x-python",
   "name": "python",
   "nbconvert_exporter": "python",
   "pygments_lexer": "ipython3",
   "version": "3.5.2"
  }
 },
 "nbformat": 4,
 "nbformat_minor": 2
}
